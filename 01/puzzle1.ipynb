{
 "cells": [
  {
   "cell_type": "code",
   "execution_count": 14,
   "metadata": {},
   "outputs": [
    {
     "name": "stdout",
     "output_type": "stream",
     "text": [
      "3714264\n"
     ]
    }
   ],
   "source": [
    "group_a = []\n",
    "group_b = []\n",
    "\n",
    "with open('input') as f:\n",
    "    for line in f:\n",
    "        values = line.strip().split()\n",
    "        group_a.append(int(values[0]))\n",
    "        group_b.append(int(values[1]))\n",
    "\n",
    "sum = 0\n",
    "\n",
    "for i in range(len(group_a)):\n",
    "    min_a = min(group_a)\n",
    "    min_b = min(group_b)\n",
    "    pos_min_a = group_a.index(min_a)\n",
    "    pos_min_b = group_b.index(min_b)\n",
    "    sum += abs(min_a - min_b)\n",
    "    group_a[pos_min_a] = float('inf')\n",
    "    group_b[pos_min_b] = float('inf')\n",
    "\n",
    "print(sum)"
   ]
  }
 ],
 "metadata": {
  "kernelspec": {
   "display_name": ".venv",
   "language": "python",
   "name": "python3"
  },
  "language_info": {
   "codemirror_mode": {
    "name": "ipython",
    "version": 3
   },
   "file_extension": ".py",
   "mimetype": "text/x-python",
   "name": "python",
   "nbconvert_exporter": "python",
   "pygments_lexer": "ipython3",
   "version": "3.12.3"
  }
 },
 "nbformat": 4,
 "nbformat_minor": 2
}
