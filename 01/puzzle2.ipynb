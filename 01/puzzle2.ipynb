{
 "cells": [
  {
   "cell_type": "code",
   "execution_count": 4,
   "metadata": {},
   "outputs": [
    {
     "name": "stdout",
     "output_type": "stream",
     "text": [
      "18805872\n"
     ]
    }
   ],
   "source": [
    "group_a = []\n",
    "group_b = []\n",
    "\n",
    "with open('input') as f:\n",
    "    for line in f:\n",
    "        values = line.strip().split()\n",
    "        group_a.append(int(values[0]))\n",
    "        group_b.append(int(values[1]))\n",
    "\n",
    "score = 0\n",
    "\n",
    "for el in group_a:\n",
    "    score += el * group_b.count(el)\n",
    "\n",
    "print(score)"
   ]
  }
 ],
 "metadata": {
  "kernelspec": {
   "display_name": ".venv",
   "language": "python",
   "name": "python3"
  },
  "language_info": {
   "codemirror_mode": {
    "name": "ipython",
    "version": 3
   },
   "file_extension": ".py",
   "mimetype": "text/x-python",
   "name": "python",
   "nbconvert_exporter": "python",
   "pygments_lexer": "ipython3",
   "version": "3.12.3"
  }
 },
 "nbformat": 4,
 "nbformat_minor": 2
}
