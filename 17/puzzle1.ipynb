{
 "cells": [
  {
   "cell_type": "code",
   "execution_count": 38,
   "metadata": {},
   "outputs": [
    {
     "name": "stdout",
     "output_type": "stream",
     "text": [
      "\n",
      "3,6,3,7,0,7,0,3,0\n"
     ]
    }
   ],
   "source": [
    "A = None\n",
    "B = None\n",
    "C = None\n",
    "program = None\n",
    "with open('input') as f:\n",
    "    for y, line in enumerate(f):\n",
    "        line = line.strip().split()\n",
    "        if len(line) == 3:\n",
    "            if line[1] == 'A:':\n",
    "                A = int(line[2])\n",
    "            if line[1] == 'B:':\n",
    "                B = int(line[2])\n",
    "            if line[1] == 'C:':\n",
    "                C = int(line[2])\n",
    "        if len(line) == 2:\n",
    "            program = line[1].split(\",\")\n",
    "            program = [int(x) for x in program]\n",
    "\n",
    "ip = 0\n",
    "\n",
    "output = []\n",
    "\n",
    "while ip < len(program):\n",
    "    opcode = program[ip]\n",
    "    literal_operand = program[ip+1]\n",
    "    if literal_operand in [0, 1, 2, 3]:\n",
    "        combo_operand = literal_operand\n",
    "    if literal_operand == 4:\n",
    "        combo_operand = A\n",
    "    if literal_operand == 5:\n",
    "        combo_operand = B\n",
    "    if literal_operand == 6:\n",
    "        combo_operand = C\n",
    "    if literal_operand == 7:\n",
    "        print(\"Error, reserved operand\")\n",
    "        break\n",
    "    if opcode == 0:\n",
    "        numerator = A\n",
    "        denominator = 2**combo_operand\n",
    "        A = numerator // denominator\n",
    "        ip += 2\n",
    "    if opcode == 1:\n",
    "        B = B ^ literal_operand\n",
    "        ip += 2\n",
    "    if opcode == 2:\n",
    "        B = combo_operand % 8\n",
    "        ip += 2\n",
    "    if opcode == 3:\n",
    "        if A == 0:\n",
    "            ip += 2\n",
    "            continue\n",
    "        else:\n",
    "            ip = literal_operand\n",
    "    if opcode == 4:\n",
    "        B = B ^ C\n",
    "        ip += 2\n",
    "    if opcode == 5:\n",
    "        out_val = combo_operand%8\n",
    "        output.append(out_val)\n",
    "        ip += 2\n",
    "    if opcode == 6:\n",
    "        numerator = A\n",
    "        denominator = 2**combo_operand\n",
    "        B = numerator // denominator\n",
    "        ip += 2\n",
    "    if opcode == 7:\n",
    "        numerator = A\n",
    "        denominator = 2**combo_operand\n",
    "        C = numerator // denominator\n",
    "        ip += 2\n",
    "\n",
    "print(','.join(str(x) for x in output))"
   ]
  }
 ],
 "metadata": {
  "kernelspec": {
   "display_name": ".venv",
   "language": "python",
   "name": "python3"
  },
  "language_info": {
   "codemirror_mode": {
    "name": "ipython",
    "version": 3
   },
   "file_extension": ".py",
   "mimetype": "text/x-python",
   "name": "python",
   "nbconvert_exporter": "python",
   "pygments_lexer": "ipython3",
   "version": "3.12.7"
  }
 },
 "nbformat": 4,
 "nbformat_minor": 2
}
