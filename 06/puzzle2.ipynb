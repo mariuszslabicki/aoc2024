{
 "cells": [
  {
   "cell_type": "code",
   "execution_count": 12,
   "metadata": {},
   "outputs": [
    {
     "name": "stdout",
     "output_type": "stream",
     "text": [
      "1443\n"
     ]
    }
   ],
   "source": [
    "obstacles = set()\n",
    "\n",
    "start = None\n",
    "\n",
    "max_x = None\n",
    "max_y = None\n",
    "\n",
    "with open('input') as f:\n",
    "    for y, line in enumerate(f):\n",
    "        max_y = y\n",
    "        line = line.strip()\n",
    "        for x, element in enumerate(line):\n",
    "            max_x = x\n",
    "            if element == '^':\n",
    "                start = (x, y)\n",
    "            if element == '#':\n",
    "                obstacles.add((x, y))\n",
    "\n",
    "def isThereLoop(obstacles, start_pos, max_x, max_y, new_obstacle=None):\n",
    "    visited_fields = set()\n",
    "    current_pos = start_pos\n",
    "    next_step = (0, -1)\n",
    "    repr = (current_pos, next_step)\n",
    "    visited_fields.add(repr)\n",
    "\n",
    "    while True:\n",
    "        candidate = (current_pos[0]+next_step[0], current_pos[1]+next_step[1])\n",
    "        repr = (candidate, next_step)\n",
    "        if repr in visited_fields:\n",
    "            return True, [x[0] for x in visited_fields]\n",
    "        \n",
    "        if candidate not in obstacles and candidate != new_obstacle:\n",
    "            current_pos = candidate\n",
    "            visited_fields.add(repr)\n",
    "        else:\n",
    "            if next_step == (0, -1):\n",
    "                next_step = (1, 0)\n",
    "            elif next_step == (1, 0):\n",
    "                next_step = (0, 1)\n",
    "            elif next_step == (0, 1):\n",
    "                next_step = (-1, 0)\n",
    "            elif next_step == (-1, 0):\n",
    "                next_step = (0, -1)\n",
    "        if current_pos[0] < 0 or current_pos[0] > max_x or current_pos[1] < 0 or current_pos[1] > max_y:\n",
    "            return False, [x[0] for x in visited_fields]\n",
    "\n",
    "_, obstacle_candidates = isThereLoop(obstacles, start, max_x, max_y)\n",
    "\n",
    "possible_obstacles = 0\n",
    "\n",
    "obstacle_candidates = set(obstacle_candidates)\n",
    "\n",
    "for field in obstacle_candidates:\n",
    "    weHaveLoop = isThereLoop(obstacles, start, max_x, max_y, field)[0]\n",
    "    if weHaveLoop is True:\n",
    "        possible_obstacles += 1\n",
    "\n",
    "print(possible_obstacles-1)\n"
   ]
  }
 ],
 "metadata": {
  "kernelspec": {
   "display_name": ".venv",
   "language": "python",
   "name": "python3"
  },
  "language_info": {
   "codemirror_mode": {
    "name": "ipython",
    "version": 3
   },
   "file_extension": ".py",
   "mimetype": "text/x-python",
   "name": "python",
   "nbconvert_exporter": "python",
   "pygments_lexer": "ipython3",
   "version": "3.12.7"
  }
 },
 "nbformat": 4,
 "nbformat_minor": 2
}
