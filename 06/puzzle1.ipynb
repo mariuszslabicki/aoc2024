{
 "cells": [
  {
   "cell_type": "code",
   "execution_count": 29,
   "metadata": {},
   "outputs": [
    {
     "name": "stdout",
     "output_type": "stream",
     "text": [
      "4696\n"
     ]
    }
   ],
   "source": [
    "obstacles = set()\n",
    "visited = set()\n",
    "\n",
    "start = None\n",
    "\n",
    "max_x = None\n",
    "max_y = None\n",
    "\n",
    "next_step = (0, -1)\n",
    "\n",
    "with open('input') as f:\n",
    "    for y, line in enumerate(f):\n",
    "        max_y = y\n",
    "        line = line.strip()\n",
    "        for x, element in enumerate(line):\n",
    "            max_x = x\n",
    "            if element == '^':\n",
    "                start = (x, y)\n",
    "            if element == '#':\n",
    "                obstacles.add((x, y))\n",
    "\n",
    "current_pos = start\n",
    "visited.add(current_pos)\n",
    "\n",
    "steps = 0\n",
    "\n",
    "while True:\n",
    "    candidate = (current_pos[0]+next_step[0], current_pos[1]+next_step[1])\n",
    "    if candidate not in obstacles:\n",
    "        current_pos = candidate\n",
    "        steps += 1\n",
    "        visited.add(current_pos)\n",
    "    else:\n",
    "        if next_step == (0, -1):\n",
    "            next_step = (1, 0)\n",
    "        elif next_step == (1, 0):\n",
    "            next_step = (0, 1)\n",
    "        elif next_step == (0, 1):\n",
    "            next_step = (-1, 0)\n",
    "        elif next_step == (-1, 0):\n",
    "            next_step = (0, -1)\n",
    "    if current_pos[0] < 0 or current_pos[0] > max_x or current_pos[1] < 0 or current_pos[1] > max_y:\n",
    "        break\n",
    "\n",
    "print(len(visited)-1)"
   ]
  }
 ],
 "metadata": {
  "kernelspec": {
   "display_name": ".venv",
   "language": "python",
   "name": "python3"
  },
  "language_info": {
   "codemirror_mode": {
    "name": "ipython",
    "version": 3
   },
   "file_extension": ".py",
   "mimetype": "text/x-python",
   "name": "python",
   "nbconvert_exporter": "python",
   "pygments_lexer": "ipython3",
   "version": "3.12.7"
  }
 },
 "nbformat": 4,
 "nbformat_minor": 2
}
