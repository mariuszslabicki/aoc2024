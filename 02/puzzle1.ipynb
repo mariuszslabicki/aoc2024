{
 "cells": [
  {
   "cell_type": "code",
   "execution_count": 15,
   "metadata": {},
   "outputs": [
    {
     "name": "stdout",
     "output_type": "stream",
     "text": [
      "213\n"
     ]
    }
   ],
   "source": [
    "reports = []\n",
    "\n",
    "with open('input') as f:\n",
    "    for line in f:\n",
    "        values = line.strip().split()\n",
    "        values_int = [ int(x) for x in values]\n",
    "        reports.append(values_int)\n",
    "\n",
    "safe_reports = 0\n",
    "\n",
    "for report in reports:\n",
    "    if report[1] > report[0]:\n",
    "        direction = 1\n",
    "    if report[1] < report[0]:\n",
    "        direction = -1\n",
    "    delta = abs(report[1] - report[0])\n",
    "    if direction == 0 or delta > 3 or delta < 1:\n",
    "        continue\n",
    "    safe = True\n",
    "    for i in range(1, len(report)-1):\n",
    "        if report[i+1] > report[i]:\n",
    "            new_directon = 1\n",
    "        if report[i+1] < report[i]:\n",
    "            new_directon = -1\n",
    "        delta = abs(report[i+1] - report[i])\n",
    "        if new_directon != direction or delta > 3 or delta < 1:\n",
    "            safe = False\n",
    "            break\n",
    "    if safe is True:\n",
    "        safe_reports += 1\n",
    "\n",
    "print(safe_reports)"
   ]
  }
 ],
 "metadata": {
  "kernelspec": {
   "display_name": ".venv",
   "language": "python",
   "name": "python3"
  },
  "language_info": {
   "codemirror_mode": {
    "name": "ipython",
    "version": 3
   },
   "file_extension": ".py",
   "mimetype": "text/x-python",
   "name": "python",
   "nbconvert_exporter": "python",
   "pygments_lexer": "ipython3",
   "version": "3.12.7"
  }
 },
 "nbformat": 4,
 "nbformat_minor": 2
}
