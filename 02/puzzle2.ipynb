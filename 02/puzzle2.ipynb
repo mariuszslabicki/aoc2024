{
 "cells": [
  {
   "cell_type": "code",
   "execution_count": 45,
   "metadata": {},
   "outputs": [
    {
     "name": "stdout",
     "output_type": "stream",
     "text": [
      "285\n"
     ]
    }
   ],
   "source": [
    "import copy\n",
    "\n",
    "reports = []\n",
    "\n",
    "with open('input') as f:\n",
    "    for line in f:\n",
    "        values = line.strip().split()\n",
    "        values_int = [ int(x) for x in values]\n",
    "        reports.append(values_int)\n",
    "\n",
    "def evaluate_report(report):\n",
    "\n",
    "    if report[1] > report[0]:\n",
    "        direction = 1\n",
    "    if report[1] < report[0]:\n",
    "        direction = -1\n",
    "\n",
    "    delta = abs(report[1] - report[0])\n",
    "\n",
    "    if delta > 3 or delta < 1 or report[1] == report[0]:\n",
    "        return 1\n",
    "\n",
    "    i = 1\n",
    "    while i < len(report)-1:\n",
    "        if report[i+1] > report[i]:\n",
    "            new_directon = 1\n",
    "        if report[i+1] < report[i]:\n",
    "            new_directon = -1\n",
    "        delta = abs(report[i+1] - report[i])\n",
    "        if report [i+1] == report[i] or new_directon != direction or delta > 3 or delta < 1:\n",
    "                return i+1\n",
    "        i += 1\n",
    "    return 0\n",
    "\n",
    "safe_reports = 0\n",
    "for report in reports:\n",
    "    result = evaluate_report(report)\n",
    "    if result == 0:\n",
    "        safe_reports += 1\n",
    "    else:\n",
    "        for i in range(len(report)):\n",
    "            report_copy = copy.deepcopy(report)\n",
    "\n",
    "            report_copy.pop(i)\n",
    "            new_result = evaluate_report(report_copy)\n",
    "            if new_result == 0:\n",
    "                safe_reports += 1\n",
    "                break\n",
    "\n",
    "\n",
    "print(safe_reports)\n",
    "\n"
   ]
  }
 ],
 "metadata": {
  "kernelspec": {
   "display_name": ".venv",
   "language": "python",
   "name": "python3"
  },
  "language_info": {
   "codemirror_mode": {
    "name": "ipython",
    "version": 3
   },
   "file_extension": ".py",
   "mimetype": "text/x-python",
   "name": "python",
   "nbconvert_exporter": "python",
   "pygments_lexer": "ipython3",
   "version": "3.12.7"
  }
 },
 "nbformat": 4,
 "nbformat_minor": 2
}
