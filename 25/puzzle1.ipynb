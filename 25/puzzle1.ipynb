{
 "cells": [
  {
   "cell_type": "code",
   "execution_count": 6,
   "metadata": {},
   "outputs": [
    {
     "name": "stdout",
     "output_type": "stream",
     "text": [
      "3483\n"
     ]
    }
   ],
   "source": [
    "keys = []\n",
    "locks = []\n",
    "\n",
    "key = [-1, -1, -1, -1, -1]\n",
    "lock = [6, 6, 6, 6, 6]\n",
    "\n",
    "doing_key = False\n",
    "doing_lock = False\n",
    "\n",
    "with open('input') as f:\n",
    "    for y, line in enumerate(f):\n",
    "        line = line.strip()\n",
    "        if len(line) == 0:\n",
    "            if doing_key:\n",
    "                keys.append(key)\n",
    "                key = [-1, -1, -1, -1, -1]\n",
    "                doing_key = False\n",
    "            if doing_lock:\n",
    "                locks.append(lock)\n",
    "                lock = [6, 6, 6, 6, 6]\n",
    "                doing_lock = False\n",
    "            doing_key = False\n",
    "            doing_lock = False\n",
    "            continue\n",
    "        if doing_key is False and doing_lock is False:\n",
    "            if line[0] == '#':\n",
    "                doing_key = True\n",
    "            if line[0] == '.':\n",
    "                doing_lock = True\n",
    "        if doing_key:\n",
    "            for x, char in enumerate(line):\n",
    "                if char == '#':\n",
    "                    key[x] += 1\n",
    "        if doing_lock:\n",
    "            for x, char in enumerate(line):\n",
    "                if char == '.':\n",
    "                    lock[x] -= 1\n",
    "\n",
    "if doing_key:\n",
    "    keys.append(key)\n",
    "if doing_lock:\n",
    "    locks.append(lock)\n",
    "\n",
    "fits = 0\n",
    "\n",
    "for key in keys:\n",
    "    for lock in locks:\n",
    "        good_size = True\n",
    "        for i in range(5):\n",
    "            if key[i] + lock[i] > 5:\n",
    "                good_size = False\n",
    "                break\n",
    "        if good_size:\n",
    "            fits += 1\n",
    "\n",
    "print(fits)\n"
   ]
  }
 ],
 "metadata": {
  "kernelspec": {
   "display_name": ".venv",
   "language": "python",
   "name": "python3"
  },
  "language_info": {
   "codemirror_mode": {
    "name": "ipython",
    "version": 3
   },
   "file_extension": ".py",
   "mimetype": "text/x-python",
   "name": "python",
   "nbconvert_exporter": "python",
   "pygments_lexer": "ipython3",
   "version": "3.12.3"
  }
 },
 "nbformat": 4,
 "nbformat_minor": 2
}
