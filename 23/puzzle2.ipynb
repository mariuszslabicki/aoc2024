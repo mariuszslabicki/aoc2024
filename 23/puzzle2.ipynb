{
 "cells": [
  {
   "cell_type": "code",
   "execution_count": 48,
   "metadata": {},
   "outputs": [
    {
     "name": "stdout",
     "output_type": "stream",
     "text": [
      "av,fr,gj,hk,ii,je,jo,lq,ny,qd,uq,wq,xc\n"
     ]
    }
   ],
   "source": [
    "connections = dict()\n",
    "\n",
    "with open('input') as f:\n",
    "    for y, line in enumerate(f):\n",
    "        line = line.strip().split(\"-\")\n",
    "        if line[0] not in connections:\n",
    "            connections[line[0]] = [line[1]]\n",
    "        else:\n",
    "            connections[line[0]].append(line[1])\n",
    "        if line[1] not in connections:\n",
    "            connections[line[1]] = [line[0]]\n",
    "        else:\n",
    "            connections[line[1]].append(line[0])\n",
    "\n",
    "largest_set = set()\n",
    "\n",
    "for start in connections:\n",
    "    subnet = set()\n",
    "    subnet.add(start)\n",
    "    updated = True\n",
    "\n",
    "    while updated:\n",
    "        updated = False\n",
    "        for el in subnet:\n",
    "            for next_el in connections[el]:\n",
    "                add_el = True\n",
    "                for member in subnet:\n",
    "                    if next_el not in connections[member]:\n",
    "                        add_el = False\n",
    "                        break\n",
    "                if add_el:\n",
    "                    subnet.add(next_el)\n",
    "                    updated = True\n",
    "            break\n",
    "        if len(subnet) > len(largest_set):\n",
    "            largest_set = subnet\n",
    "largest_set = sorted(largest_set)\n",
    "\n",
    "print(\",\".join(largest_set))\n",
    "                    \n",
    "\n",
    "                \n",
    "\n",
    "\n"
   ]
  }
 ],
 "metadata": {
  "kernelspec": {
   "display_name": ".venv",
   "language": "python",
   "name": "python3"
  },
  "language_info": {
   "codemirror_mode": {
    "name": "ipython",
    "version": 3
   },
   "file_extension": ".py",
   "mimetype": "text/x-python",
   "name": "python",
   "nbconvert_exporter": "python",
   "pygments_lexer": "ipython3",
   "version": "3.12.3"
  }
 },
 "nbformat": 4,
 "nbformat_minor": 2
}
