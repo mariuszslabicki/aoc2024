{
 "cells": [
  {
   "cell_type": "code",
   "execution_count": null,
   "metadata": {},
   "outputs": [
    {
     "name": "stdout",
     "output_type": "stream",
     "text": [
      "1119\n"
     ]
    }
   ],
   "source": [
    "connections = dict()\n",
    "\n",
    "with open('input') as f:\n",
    "    for y, line in enumerate(f):\n",
    "        line = line.strip().split(\"-\")\n",
    "        if line[0] not in connections:\n",
    "            connections[line[0]] = [line[1]]\n",
    "        else:\n",
    "            connections[line[0]].append(line[1])\n",
    "        if line[1] not in connections:\n",
    "            connections[line[1]] = [line[0]]\n",
    "        else:\n",
    "            connections[line[1]].append(line[0])\n",
    "\n",
    "t_threes = set()\n",
    "\n",
    "for el1 in connections:\n",
    "    for el2 in connections[el1]:\n",
    "        for el3 in connections[el2]:\n",
    "            if el1 in connections[el3]:\n",
    "                if el1[0] == 't' or el1[0] == 't' or el2[0] == 't':\n",
    "                    t_threes.add(tuple(sorted([el1, el2, el3])))\n",
    "                    \n",
    "print(len(t_threes))\n",
    "                \n",
    "\n",
    "\n"
   ]
  }
 ],
 "metadata": {
  "kernelspec": {
   "display_name": ".venv",
   "language": "python",
   "name": "python3"
  },
  "language_info": {
   "codemirror_mode": {
    "name": "ipython",
    "version": 3
   },
   "file_extension": ".py",
   "mimetype": "text/x-python",
   "name": "python",
   "nbconvert_exporter": "python",
   "pygments_lexer": "ipython3",
   "version": "3.12.3"
  }
 },
 "nbformat": 4,
 "nbformat_minor": 2
}
