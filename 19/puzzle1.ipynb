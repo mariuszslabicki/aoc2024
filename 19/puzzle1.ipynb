{
 "cells": [
  {
   "cell_type": "code",
   "execution_count": 71,
   "metadata": {},
   "outputs": [
    {
     "name": "stdout",
     "output_type": "stream",
     "text": [
      "280\n"
     ]
    }
   ],
   "source": [
    "patterns = set()\n",
    "chains = []\n",
    "\n",
    "loading_chains = False\n",
    "\n",
    "with open('input') as f:\n",
    "    for y, line in enumerate(f):\n",
    "        line = line.strip()\n",
    "        if len(line) == 0:\n",
    "            loading_chains = True\n",
    "            continue\n",
    "        if loading_chains is False:\n",
    "            line = line.split(\", \")\n",
    "            patterns = [el for el in line]\n",
    "            patterns = set(patterns)\n",
    "        if loading_chains is True:\n",
    "            chains.append(line)\n",
    "\n",
    "checked = dict()\n",
    "\n",
    "def diggin(chain, patterns):\n",
    "    for pattern in patterns:\n",
    "        if chain == pattern:\n",
    "            return True\n",
    "        if chain.startswith(pattern):\n",
    "            if chain[len(pattern):] not in checked:\n",
    "                result = diggin(chain[len(pattern):], patterns)\n",
    "                checked[chain[len(pattern):]] = result\n",
    "                if result is True:\n",
    "                    return True\n",
    "            else:\n",
    "                result = checked[chain[len(pattern):]]\n",
    "                if result is True:\n",
    "                    return True\n",
    "\n",
    "counter = 0\n",
    "\n",
    "for chain in chains:\n",
    "    result = diggin(chain, patterns)\n",
    "    if result is True:\n",
    "        counter += 1\n",
    "\n",
    "print(counter)"
   ]
  }
 ],
 "metadata": {
  "kernelspec": {
   "display_name": ".venv",
   "language": "python",
   "name": "python3"
  },
  "language_info": {
   "codemirror_mode": {
    "name": "ipython",
    "version": 3
   },
   "file_extension": ".py",
   "mimetype": "text/x-python",
   "name": "python",
   "nbconvert_exporter": "python",
   "pygments_lexer": "ipython3",
   "version": "3.12.7"
  }
 },
 "nbformat": 4,
 "nbformat_minor": 2
}
