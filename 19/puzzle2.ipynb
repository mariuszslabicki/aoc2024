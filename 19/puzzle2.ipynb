{
 "cells": [
  {
   "cell_type": "code",
   "execution_count": 26,
   "metadata": {},
   "outputs": [
    {
     "name": "stdout",
     "output_type": "stream",
     "text": [
      "606411968721181\n"
     ]
    }
   ],
   "source": [
    "patterns = set()\n",
    "chains = []\n",
    "\n",
    "loading_chains = False\n",
    "\n",
    "with open('input') as f:\n",
    "    for y, line in enumerate(f):\n",
    "        line = line.strip()\n",
    "        if len(line) == 0:\n",
    "            loading_chains = True\n",
    "            continue\n",
    "        if loading_chains is False:\n",
    "            line = line.split(\", \")\n",
    "            patterns = [el for el in line]\n",
    "            patterns = set(patterns)\n",
    "        if loading_chains is True:\n",
    "            chains.append(line)\n",
    "\n",
    "checked = dict()\n",
    "\n",
    "def diggin(chain, patterns):\n",
    "    global correct\n",
    "    for pattern in patterns:\n",
    "        if chain == pattern:\n",
    "            correct += 1\n",
    "        if chain.startswith(pattern):\n",
    "            if chain[len(pattern):] not in checked:\n",
    "                correct_temp = [correct]\n",
    "                diggin(chain[len(pattern):], patterns)\n",
    "                checked[chain[len(pattern):]] = correct - correct_temp[0]\n",
    "            else:\n",
    "                correct += checked[chain[len(pattern):]]\n",
    "\n",
    "total_correct = 0\n",
    "\n",
    "for chain in chains:\n",
    "    correct = 0\n",
    "    diggin(chain, patterns)\n",
    "    total_correct += correct\n",
    "\n",
    "print(total_correct)\n"
   ]
  }
 ],
 "metadata": {
  "kernelspec": {
   "display_name": ".venv",
   "language": "python",
   "name": "python3"
  },
  "language_info": {
   "codemirror_mode": {
    "name": "ipython",
    "version": 3
   },
   "file_extension": ".py",
   "mimetype": "text/x-python",
   "name": "python",
   "nbconvert_exporter": "python",
   "pygments_lexer": "ipython3",
   "version": "3.12.7"
  }
 },
 "nbformat": 4,
 "nbformat_minor": 2
}
