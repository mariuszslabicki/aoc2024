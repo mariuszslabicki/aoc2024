{
 "cells": [
  {
   "cell_type": "code",
   "execution_count": 61,
   "metadata": {},
   "outputs": [
    {
     "name": "stdout",
     "output_type": "stream",
     "text": [
      "48806532300520\n"
     ]
    }
   ],
   "source": [
    "variables = dict()\n",
    "functions = dict()\n",
    "\n",
    "reading_first_part = True\n",
    "\n",
    "with open('input') as f:\n",
    "    for y, line in enumerate(f):\n",
    "        line = line.strip()\n",
    "        if len(line) == 0:\n",
    "            reading_first_part = False\n",
    "            continue\n",
    "        if reading_first_part:\n",
    "            line = line.split(\": \")\n",
    "            variables[line[0]] = int(line[1])\n",
    "        if reading_first_part is False:\n",
    "            line = line.split(\" \")\n",
    "            if (line[0], line[2]) not in functions:\n",
    "                functions[(line[0], line[2])] = [[line[1], line[4]]]\n",
    "            else:\n",
    "                functions[(line[0], line[2])].append([line[1], line[4]])\n",
    "\n",
    "proceed = True\n",
    "while proceed:\n",
    "    proceed = False\n",
    "    for function in functions:\n",
    "        if function[0] in variables and function[1] in variables:\n",
    "            for one_end in functions[(function[0], function[1])]:\n",
    "                operation = one_end[0]\n",
    "                destination = one_end[1]\n",
    "                if destination in variables:\n",
    "                    continue\n",
    "                if operation == \"AND\":\n",
    "                    result = variables[function[0]] & variables[function[1]]\n",
    "                if operation == \"OR\":\n",
    "                    result = variables[function[0]] | variables[function[1]]\n",
    "                if operation == \"XOR\":\n",
    "                    result = variables[function[0]] ^ variables[function[1]]\n",
    "                variables[destination] = result\n",
    "                proceed = True\n",
    "\n",
    "number = 0\n",
    "for variable in variables:\n",
    "    if variable[0] == 'z':\n",
    "        base = int(variable[1:])\n",
    "        number += variables[variable] * 2**base\n",
    "\n",
    "print(number)"
   ]
  }
 ],
 "metadata": {
  "kernelspec": {
   "display_name": ".venv",
   "language": "python",
   "name": "python3"
  },
  "language_info": {
   "codemirror_mode": {
    "name": "ipython",
    "version": 3
   },
   "file_extension": ".py",
   "mimetype": "text/x-python",
   "name": "python",
   "nbconvert_exporter": "python",
   "pygments_lexer": "ipython3",
   "version": "3.12.3"
  }
 },
 "nbformat": 4,
 "nbformat_minor": 2
}
