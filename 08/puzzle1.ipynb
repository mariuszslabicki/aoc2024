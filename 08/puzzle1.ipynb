{
 "cells": [
  {
   "cell_type": "code",
   "execution_count": 43,
   "metadata": {},
   "outputs": [
    {
     "name": "stdout",
     "output_type": "stream",
     "text": [
      "426\n"
     ]
    }
   ],
   "source": [
    "antennas = dict()\n",
    "\n",
    "with open('input') as f:\n",
    "    for y, line in enumerate(f):\n",
    "        max_y = y\n",
    "        line = line.strip()\n",
    "        for x, element in enumerate(line):\n",
    "            max_x = x\n",
    "            if element != '.':\n",
    "                position = (x, y)\n",
    "                kind = element\n",
    "                if kind not in antennas:\n",
    "                    antennas[kind] = [position]\n",
    "                else:\n",
    "                    antennas[kind].append(position)\n",
    "\n",
    "antinodes = set()\n",
    "\n",
    "for kind in antennas:\n",
    "    for i in range(len(antennas[kind])):\n",
    "        for j in range(i+1, len(antennas[kind])):\n",
    "            diff_x = antennas[kind][j][0] - antennas[kind][i][0]\n",
    "            diff_y = antennas[kind][j][1] - antennas[kind][i][1]\n",
    "            new_x1 = antennas[kind][i][0] - diff_x\n",
    "            new_y1 = antennas[kind][i][1] - diff_y\n",
    "            if new_x1 <= max_x and new_x1 >= 0 and new_y1 <= max_y and new_y1 >= 0:\n",
    "                antinodes.add((new_x1, new_y1))\n",
    "\n",
    "            diff_x = antennas[kind][i][0] - antennas[kind][j][0]\n",
    "            diff_y = antennas[kind][i][1] - antennas[kind][j][1]\n",
    "            new_x2 = antennas[kind][j][0] - diff_x\n",
    "            new_y2 = antennas[kind][j][1] - diff_y\n",
    "            if new_x2 <= max_x and new_x2 >= 0 and new_y2 <= max_y and new_y2 >= 0:\n",
    "                antinodes.add((new_x2, new_y2))\n",
    "\n",
    "print(len(antinodes))\n"
   ]
  }
 ],
 "metadata": {
  "kernelspec": {
   "display_name": ".venv",
   "language": "python",
   "name": "python3"
  },
  "language_info": {
   "codemirror_mode": {
    "name": "ipython",
    "version": 3
   },
   "file_extension": ".py",
   "mimetype": "text/x-python",
   "name": "python",
   "nbconvert_exporter": "python",
   "pygments_lexer": "ipython3",
   "version": "3.12.3"
  }
 },
 "nbformat": 4,
 "nbformat_minor": 2
}
