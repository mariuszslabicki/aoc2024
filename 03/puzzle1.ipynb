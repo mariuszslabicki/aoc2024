{
 "cells": [
  {
   "cell_type": "code",
   "execution_count": null,
   "metadata": {},
   "outputs": [
    {
     "name": "stdout",
     "output_type": "stream",
     "text": [
      "183669043\n"
     ]
    }
   ],
   "source": [
    "memory_lines = []\n",
    "\n",
    "with open('input') as f:\n",
    "    for line in f:\n",
    "        memory = list(line.strip())\n",
    "        memory_lines.append(memory)\n",
    "\n",
    "muls = []\n",
    "\n",
    "for memory in memory_lines:\n",
    "    pos = 0\n",
    "\n",
    "    temp_mul = []\n",
    "\n",
    "    while len(memory) > 0:\n",
    "        next_el = memory.pop(0)\n",
    "        if pos == 0 and next_el == 'm':\n",
    "            temp_mul.append(next_el)\n",
    "            pos += 1\n",
    "        elif pos == 1 and next_el == 'u':\n",
    "            temp_mul.append(next_el)\n",
    "            pos += 1\n",
    "        elif pos == 2 and next_el == 'l':\n",
    "            temp_mul.append(next_el)\n",
    "            pos += 1\n",
    "        elif pos == 3 and next_el == '(':\n",
    "            temp_mul.append(next_el)\n",
    "            pos += 1\n",
    "        elif pos == 4:\n",
    "            if str(next_el).isnumeric():\n",
    "                temp_mul.append(next_el)\n",
    "            elif next_el == ',':\n",
    "                temp_mul.append(next_el)\n",
    "                pos += 1\n",
    "            else:\n",
    "                pos = 0\n",
    "                temp_mul = []\n",
    "\n",
    "        elif pos == 5:\n",
    "            if str(next_el).isnumeric():\n",
    "                temp_mul.append(next_el)\n",
    "            elif next_el == ')':\n",
    "                temp_mul.append(next_el)\n",
    "                muls.append(''.join(temp_mul))\n",
    "                pos = 0\n",
    "                temp_mul = []\n",
    "            else:\n",
    "                pos = 0\n",
    "                temp_mul = []\n",
    "\n",
    "        else:\n",
    "            pos = 0\n",
    "            temp_mul = []\n",
    "\n",
    "total = 0\n",
    "\n",
    "for mul in muls:\n",
    "    temp_mul = mul[4:-1]\n",
    "    temp_mul = temp_mul.split(',')\n",
    "    total += int(temp_mul[0]) * int(temp_mul[1])\n",
    "\n",
    "print(total)\n"
   ]
  }
 ],
 "metadata": {
  "kernelspec": {
   "display_name": ".venv",
   "language": "python",
   "name": "python3"
  },
  "language_info": {
   "codemirror_mode": {
    "name": "ipython",
    "version": 3
   },
   "file_extension": ".py",
   "mimetype": "text/x-python",
   "name": "python",
   "nbconvert_exporter": "python",
   "pygments_lexer": "ipython3",
   "version": "3.12.3"
  }
 },
 "nbformat": 4,
 "nbformat_minor": 2
}
