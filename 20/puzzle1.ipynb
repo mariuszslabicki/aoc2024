{
 "cells": [
  {
   "cell_type": "code",
   "execution_count": 1,
   "metadata": {},
   "outputs": [
    {
     "name": "stdout",
     "output_type": "stream",
     "text": [
      "1358\n"
     ]
    }
   ],
   "source": [
    "import itertools\n",
    "\n",
    "fields = set()\n",
    "walls = set()\n",
    "start = None\n",
    "end = None\n",
    "\n",
    "with open('input') as f:\n",
    "    for y, line in enumerate(f):\n",
    "        line = line.strip()\n",
    "        for x, el in enumerate(line):\n",
    "            if el == '.' or el == 'E':\n",
    "                fields.add((x, y))\n",
    "            if el == 'S':\n",
    "                start = (x, y)\n",
    "            if el == 'E':\n",
    "                end = (x, y)\n",
    "            if el == '#':\n",
    "                walls.add((x, y))\n",
    "\n",
    "path = []\n",
    "path.append(end)\n",
    "\n",
    "paths = [path]\n",
    "\n",
    "visited = set()\n",
    "visited.add(end)\n",
    "\n",
    "searching = True\n",
    "\n",
    "ref_len = None\n",
    "ref_path = []\n",
    "\n",
    "to_end = dict()\n",
    "to_end[end] = 0\n",
    "\n",
    "while searching:\n",
    "    new_paths = []\n",
    "    for path in paths:\n",
    "        steps = [(0, 1), (0, -1), (1, 0), (-1, 0)]\n",
    "        for step in steps:\n",
    "            candidate = (path[-1][0]+step[0], path[-1][1]+step[1])\n",
    "            if candidate in fields and candidate not in visited or candidate == start:\n",
    "                visited.add(candidate)\n",
    "                to_end[candidate] = len(path)\n",
    "                new_path = path.copy()\n",
    "                new_path.append(candidate)\n",
    "                if new_path[-1] == start:\n",
    "                    ref_len = len(new_path)-1\n",
    "                    ref_path = new_path\n",
    "                    searching = False\n",
    "                    break\n",
    "                new_paths.append(new_path)\n",
    "        if searching is False:\n",
    "            break\n",
    "    if len(new_paths) == 0:\n",
    "        break\n",
    "    paths = new_paths.copy()\n",
    "\n",
    "shortcuts = dict()\n",
    "\n",
    "for pair in itertools.permutations(fields, 2):\n",
    "    if abs(pair[0][0] - pair[1][0]) + abs(pair[0][1] - pair[1][1]) == 2:\n",
    "        gain = to_end[pair[0]] - to_end[pair[1]]-2\n",
    "        if gain not in shortcuts:\n",
    "            shortcuts[gain] = 1\n",
    "        else:\n",
    "            shortcuts[gain] += 1\n",
    "\n",
    "counter = 0\n",
    "for gain in shortcuts:\n",
    "    if gain >= 100:\n",
    "        counter += shortcuts[gain]\n",
    "print(counter)"
   ]
  }
 ],
 "metadata": {
  "kernelspec": {
   "display_name": ".venv",
   "language": "python",
   "name": "python3"
  },
  "language_info": {
   "codemirror_mode": {
    "name": "ipython",
    "version": 3
   },
   "file_extension": ".py",
   "mimetype": "text/x-python",
   "name": "python",
   "nbconvert_exporter": "python",
   "pygments_lexer": "ipython3",
   "version": "3.12.7"
  }
 },
 "nbformat": 4,
 "nbformat_minor": 2
}
