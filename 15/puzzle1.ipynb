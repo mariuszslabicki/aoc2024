{
 "cells": [
  {
   "cell_type": "code",
   "execution_count": 11,
   "metadata": {},
   "outputs": [
    {
     "name": "stdout",
     "output_type": "stream",
     "text": [
      "1526673\n"
     ]
    }
   ],
   "source": [
    "walls = set()\n",
    "boxes = set()\n",
    "steps = []\n",
    "\n",
    "pos = None\n",
    "\n",
    "reading_steps = False\n",
    "\n",
    "with open('input') as f:\n",
    "    for y, line in enumerate(f):\n",
    "        if len(line) == 1:\n",
    "            reading_steps = True\n",
    "        for x, char in enumerate(line.strip()):\n",
    "            if reading_steps is False:\n",
    "                if char == '.':\n",
    "                    continue\n",
    "                if char == '#':\n",
    "                    walls.add((x, y))\n",
    "                if char == 'O':\n",
    "                    boxes.add((x, y))\n",
    "                if char == '@':\n",
    "                    pos = (x, y)\n",
    "            else:\n",
    "                steps.append(char)\n",
    "            \n",
    "for step in steps:\n",
    "    if step == '>':\n",
    "        shift = (1, 0)\n",
    "    if step == '<':\n",
    "        shift = (-1, 0)\n",
    "    if step == 'v':\n",
    "        shift = (0, 1)\n",
    "    if step == '^':\n",
    "        shift = (0, -1)\n",
    "    \n",
    "    next_pos = (pos[0] + shift[0], pos[1] + shift[1])\n",
    "    if next_pos in walls:\n",
    "        continue\n",
    "    if next_pos in boxes:\n",
    "        pointer = next_pos\n",
    "        while pointer in boxes:\n",
    "            pointer = (pointer[0] + shift[0], pointer[1] + shift[1])\n",
    "        if pointer in walls:\n",
    "            continue\n",
    "        pos = next_pos\n",
    "        boxes.remove(next_pos)\n",
    "        boxes.add(pointer)\n",
    "        continue\n",
    "    pos = next_pos\n",
    "\n",
    "total_coordinates = 0\n",
    "\n",
    "for box in boxes:\n",
    "    total_coordinates += box[1] * 100 + box[0]\n",
    "\n",
    "print(total_coordinates)"
   ]
  }
 ],
 "metadata": {
  "kernelspec": {
   "display_name": ".venv",
   "language": "python",
   "name": "python3"
  },
  "language_info": {
   "codemirror_mode": {
    "name": "ipython",
    "version": 3
   },
   "file_extension": ".py",
   "mimetype": "text/x-python",
   "name": "python",
   "nbconvert_exporter": "python",
   "pygments_lexer": "ipython3",
   "version": "3.12.3"
  }
 },
 "nbformat": 4,
 "nbformat_minor": 2
}
