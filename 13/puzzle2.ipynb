{
 "cells": [
  {
   "cell_type": "code",
   "execution_count": 42,
   "metadata": {},
   "outputs": [
    {
     "name": "stdout",
     "output_type": "stream",
     "text": [
      "93217456941970\n"
     ]
    }
   ],
   "source": [
    "from sympy import symbols, Eq, solve\n",
    "from sympy import simplify\n",
    "\n",
    "games = []\n",
    "\n",
    "with open('input') as f:\n",
    "    game = []\n",
    "    for y, line in enumerate(f):\n",
    "        if len(line) == 1:\n",
    "            continue\n",
    "        line = line.split()\n",
    "        game.append(int(line[-2][2:-1]))\n",
    "        game.append(int(line[-1][2:]))\n",
    "        if len(game) == 6:\n",
    "            game[4] += 10000000000000\n",
    "            game[5] += 10000000000000\n",
    "            games.append(game)\n",
    "            game = []\n",
    "\n",
    "def find(game):\n",
    "    a, b = symbols('a b')\n",
    "    eq1 = Eq(game[0]*a + game[2]*b, game[4])\n",
    "    eq2 = Eq(game[1]*a + game[3]*b, game[5])\n",
    "    solution = solve((eq1, eq2), (a, b))\n",
    "    sol_a = solution[a]\n",
    "    sol_b = solution[b]\n",
    "    if simplify(sol_a).is_integer and simplify(sol_b).is_integer:\n",
    "        return sol_a*3 + sol_b\n",
    "    else:\n",
    "        return 0\n",
    "\n",
    "total = 0\n",
    "\n",
    "for game in games:\n",
    "    result = find(game)\n",
    "    total += result\n",
    "\n",
    "print(total)\n",
    "        "
   ]
  }
 ],
 "metadata": {
  "kernelspec": {
   "display_name": ".venv",
   "language": "python",
   "name": "python3"
  },
  "language_info": {
   "codemirror_mode": {
    "name": "ipython",
    "version": 3
   },
   "file_extension": ".py",
   "mimetype": "text/x-python",
   "name": "python",
   "nbconvert_exporter": "python",
   "pygments_lexer": "ipython3",
   "version": "3.12.7"
  }
 },
 "nbformat": 4,
 "nbformat_minor": 2
}
