{
 "cells": [
  {
   "cell_type": "code",
   "execution_count": 36,
   "metadata": {},
   "outputs": [
    {
     "name": "stdout",
     "output_type": "stream",
     "text": [
      "29598\n"
     ]
    }
   ],
   "source": [
    "games = []\n",
    "\n",
    "with open('input') as f:\n",
    "    game = []\n",
    "    for y, line in enumerate(f):\n",
    "        if len(line) == 1:\n",
    "            continue\n",
    "        line = line.split()\n",
    "        game.append(int(line[-2][2:-1]))\n",
    "        game.append(int(line[-1][2:]))\n",
    "        if len(game) == 6:\n",
    "            games.append(game)\n",
    "            game = []\n",
    "\n",
    "def throw(press_a, press_b, cur_x, cur_y, game):\n",
    "    global checked\n",
    "    if press_a > 100 or press_b > 100:\n",
    "        return 0\n",
    "\n",
    "    new_x = cur_x + game[0]\n",
    "    new_y = cur_y + game[1]\n",
    "    if new_x > game[4] or new_y > game[5]:\n",
    "        return 0\n",
    "    if new_x == game[4] and new_y == game[5]:\n",
    "        return (press_a+1) * 3 + press_b\n",
    "    \n",
    "    if (press_a+1, press_b) not in checked:\n",
    "        checked.add((press_a+1, press_b))\n",
    "        result_A = throw(press_a+1, press_b, new_x, new_y, game)\n",
    "        if result_A != 0:\n",
    "            return result_A\n",
    "\n",
    "    new_x = cur_x + game[2]\n",
    "    new_y = cur_y + game[3]\n",
    "    if new_x > game[4] or new_y > game[5]:\n",
    "        return 0\n",
    "    if new_x == game[4] and new_y == game[5]:\n",
    "        return press_a * 3 + press_b+1\n",
    "    \n",
    "    if (press_a, press_b+1) not in checked:\n",
    "        checked.add((press_a, press_b+1))\n",
    "        result_B = throw(press_a, press_b+1, new_x, new_y, game)\n",
    "        return result_B\n",
    "\n",
    "total = 0\n",
    "\n",
    "for game in games:\n",
    "    checked = set()\n",
    "    result = throw(0, 0, 0, 0, game)\n",
    "    total += result\n",
    "\n",
    "print(total)\n",
    "        "
   ]
  }
 ],
 "metadata": {
  "kernelspec": {
   "display_name": ".venv",
   "language": "python",
   "name": "python3"
  },
  "language_info": {
   "codemirror_mode": {
    "name": "ipython",
    "version": 3
   },
   "file_extension": ".py",
   "mimetype": "text/x-python",
   "name": "python",
   "nbconvert_exporter": "python",
   "pygments_lexer": "ipython3",
   "version": "3.12.7"
  }
 },
 "nbformat": 4,
 "nbformat_minor": 2
}
