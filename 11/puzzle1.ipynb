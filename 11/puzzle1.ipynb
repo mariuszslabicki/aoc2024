{
 "cells": [
  {
   "cell_type": "code",
   "execution_count": 5,
   "metadata": {},
   "outputs": [
    {
     "name": "stdout",
     "output_type": "stream",
     "text": [
      "200446\n"
     ]
    }
   ],
   "source": [
    "import collections\n",
    "\n",
    "stones = []\n",
    "\n",
    "with open('input') as f:\n",
    "    for y, line in enumerate(f):\n",
    "        stones_list = [int(x) for x in line.strip().split()]\n",
    "\n",
    "stones = collections.deque()\n",
    "for element in stones_list:\n",
    "    stones.append(element)\n",
    "\n",
    "for blink in range(25):\n",
    "    new_stones = collections.deque()\n",
    "    for i in stones:\n",
    "        if i == 0:\n",
    "            new_stones.append(1)\n",
    "        elif len(str(i)) % 2 == 0:\n",
    "            val_str = str(i).strip()\n",
    "            stone_1 = int(val_str[0:len(val_str)//2])\n",
    "            stone_2 = int(val_str[len(val_str)//2:])\n",
    "            new_stones.append(stone_1)\n",
    "            new_stones.append(stone_2)\n",
    "        else:\n",
    "            new_stones.append(i * 2024)\n",
    "    stones = new_stones\n",
    "print(len(stones))\n",
    "\n"
   ]
  }
 ],
 "metadata": {
  "kernelspec": {
   "display_name": ".venv",
   "language": "python",
   "name": "python3"
  },
  "language_info": {
   "codemirror_mode": {
    "name": "ipython",
    "version": 3
   },
   "file_extension": ".py",
   "mimetype": "text/x-python",
   "name": "python",
   "nbconvert_exporter": "python",
   "pygments_lexer": "ipython3",
   "version": "3.12.7"
  }
 },
 "nbformat": 4,
 "nbformat_minor": 2
}
