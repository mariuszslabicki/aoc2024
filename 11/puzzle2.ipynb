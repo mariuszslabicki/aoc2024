{
 "cells": [
  {
   "cell_type": "code",
   "execution_count": 2,
   "metadata": {},
   "outputs": [
    {
     "name": "stdout",
     "output_type": "stream",
     "text": [
      "238317474993392\n"
     ]
    }
   ],
   "source": [
    "import collections\n",
    "\n",
    "stones = []\n",
    "\n",
    "with open('input') as f:\n",
    "    for y, line in enumerate(f):\n",
    "        stones_list = [int(x) for x in line.strip().split()]\n",
    "\n",
    "stones = collections.deque()\n",
    "for element in stones_list:\n",
    "    stones.append(element)\n",
    "\n",
    "stones_cnt = 0\n",
    "\n",
    "buffered_val = dict()\n",
    "\n",
    "def dig(stone, level):\n",
    "    if level == 75:\n",
    "        return 1\n",
    "    subtree_sum = 0\n",
    "    if stone == 0:\n",
    "        if (1, level+1) in buffered_val:\n",
    "            subtree_sum = buffered_val[(1, level+1)]\n",
    "        else:\n",
    "            subtree_sum = dig(1, level+1)\n",
    "            buffered_val[(1, level+1)] = subtree_sum\n",
    "    elif len(str(stone)) % 2 == 0:\n",
    "        val_str = str(stone).strip()\n",
    "\n",
    "        stone_1 = int(val_str[0:len(val_str)//2])\n",
    "        subtree_sum += dig(stone_1, level+1)\n",
    "\n",
    "        stone_2 = int(val_str[len(val_str)//2:])\n",
    "        subtree_sum += dig(stone_2, level+1)\n",
    "    else:\n",
    "        if (stone * 2024, level+1) in buffered_val:\n",
    "            subtree_sum = buffered_val[(stone * 2024, level+1)]\n",
    "        else:\n",
    "            subtree_sum = dig(stone * 2024, level+1)\n",
    "            buffered_val[(stone * 2024, level+1)] = subtree_sum\n",
    "    return subtree_sum\n",
    "        \n",
    "\n",
    "for stone in stones:\n",
    "    stones_cnt += dig(stone, 0)\n",
    "\n",
    "print(stones_cnt)"
   ]
  }
 ],
 "metadata": {
  "kernelspec": {
   "display_name": ".venv",
   "language": "python",
   "name": "python3"
  },
  "language_info": {
   "codemirror_mode": {
    "name": "ipython",
    "version": 3
   },
   "file_extension": ".py",
   "mimetype": "text/x-python",
   "name": "python",
   "nbconvert_exporter": "python",
   "pygments_lexer": "ipython3",
   "version": "3.12.7"
  }
 },
 "nbformat": 4,
 "nbformat_minor": 2
}
