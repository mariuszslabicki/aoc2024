{
 "cells": [
  {
   "cell_type": "code",
   "execution_count": 17,
   "metadata": {},
   "outputs": [
    {
     "name": "stdout",
     "output_type": "stream",
     "text": [
      "5017\n"
     ]
    }
   ],
   "source": [
    "rules = set()\n",
    "orderings = []\n",
    "\n",
    "rules_finished = False\n",
    "\n",
    "with open('input') as f:\n",
    "    for line_no, line in enumerate(f):\n",
    "        if len(line) == 1:\n",
    "            rules_finished = True\n",
    "            continue\n",
    "        if rules_finished is False:\n",
    "            rule = line.strip().split(\"|\")\n",
    "            rule = (int(rule[0]), int(rule[1]))\n",
    "            rules.add(rule)\n",
    "        if rules_finished is True:\n",
    "            ordering = [int(x) for x in line.strip().split(\",\")]\n",
    "            orderings.append(ordering)\n",
    "\n",
    "total = 0\n",
    "\n",
    "for ordering in orderings:\n",
    "    updated = False\n",
    "    for i in range(len(ordering)):\n",
    "        for j in range(i, len(ordering)):\n",
    "            if (ordering[j], ordering[i]) in rules:\n",
    "                updated = True\n",
    "                ordering[j], ordering[i] = ordering[i], ordering[j]\n",
    "    if updated:\n",
    "        total += ordering[len(ordering)//2]\n",
    "\n",
    "print(total)"
   ]
  }
 ],
 "metadata": {
  "kernelspec": {
   "display_name": ".venv",
   "language": "python",
   "name": "python3"
  },
  "language_info": {
   "codemirror_mode": {
    "name": "ipython",
    "version": 3
   },
   "file_extension": ".py",
   "mimetype": "text/x-python",
   "name": "python",
   "nbconvert_exporter": "python",
   "pygments_lexer": "ipython3",
   "version": "3.12.7"
  }
 },
 "nbformat": 4,
 "nbformat_minor": 2
}
