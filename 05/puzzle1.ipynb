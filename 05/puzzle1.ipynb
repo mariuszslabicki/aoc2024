{
 "cells": [
  {
   "cell_type": "code",
   "execution_count": 27,
   "metadata": {},
   "outputs": [
    {
     "name": "stdout",
     "output_type": "stream",
     "text": [
      "6498\n"
     ]
    }
   ],
   "source": [
    "rules = set()\n",
    "orderings = []\n",
    "\n",
    "rules_finished = False\n",
    "\n",
    "with open('input') as f:\n",
    "    for line_no, line in enumerate(f):\n",
    "        if len(line) == 1:\n",
    "            rules_finished = True\n",
    "            continue\n",
    "        if rules_finished is False:\n",
    "            rule = line.strip().split(\"|\")\n",
    "            rule = (int(rule[0]), int(rule[1]))\n",
    "            rules.add(rule)\n",
    "        if rules_finished is True:\n",
    "            ordering = [int(x) for x in line.strip().split(\",\")]\n",
    "            orderings.append(ordering)\n",
    "\n",
    "total = 0\n",
    "\n",
    "for ordering in orderings:\n",
    "    valid = True\n",
    "    for i in range(len(ordering)):\n",
    "        for j in range(i, len(ordering)):\n",
    "            if (ordering[j], ordering[i]) in rules:\n",
    "                valid = False\n",
    "    if valid:\n",
    "        length = len(ordering)\n",
    "        middle_one = length//2\n",
    "        total += ordering[middle_one]\n",
    "\n",
    "print(total)"
   ]
  }
 ],
 "metadata": {
  "kernelspec": {
   "display_name": ".venv",
   "language": "python",
   "name": "python3"
  },
  "language_info": {
   "codemirror_mode": {
    "name": "ipython",
    "version": 3
   },
   "file_extension": ".py",
   "mimetype": "text/x-python",
   "name": "python",
   "nbconvert_exporter": "python",
   "pygments_lexer": "ipython3",
   "version": "3.12.7"
  }
 },
 "nbformat": 4,
 "nbformat_minor": 2
}
