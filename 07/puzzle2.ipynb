{
 "cells": [
  {
   "cell_type": "code",
   "execution_count": 3,
   "metadata": {},
   "outputs": [
    {
     "name": "stdout",
     "output_type": "stream",
     "text": [
      "945341732469724\n"
     ]
    }
   ],
   "source": [
    "from itertools import product\n",
    "\n",
    "operations = []\n",
    "\n",
    "with open('input') as f:\n",
    "    for y, line in enumerate(f):\n",
    "        part1 = int(line.strip().split(\":\")[0])\n",
    "        part2 = line.strip().split(\":\")[1].strip().split()\n",
    "        part2 = [int(x) for x in part2]\n",
    "        operations.append([part1, part2])\n",
    "\n",
    "total = 0\n",
    "\n",
    "for operation in operations:\n",
    "    operators_set = product([1, 2, 3], repeat=len(operation[1])-1)\n",
    "    for operators in operators_set:\n",
    "        result = operation[1][0]\n",
    "        for i in range(len(operators)):\n",
    "            if operators[i] == 1:\n",
    "                result += operation[1][i+1]\n",
    "            elif operators[i] == 2:\n",
    "                result *= operation[1][i+1]\n",
    "            elif operators[i] == 3:\n",
    "                result = str(result) + str(operation[1][i+1])\n",
    "                result = int(result)\n",
    "            if result > operation[0]:\n",
    "                break\n",
    "        if result == operation[0]:\n",
    "            total += operation[0]\n",
    "            break\n",
    "\n",
    "print(total)"
   ]
  }
 ],
 "metadata": {
  "kernelspec": {
   "display_name": ".venv",
   "language": "python",
   "name": "python3"
  },
  "language_info": {
   "codemirror_mode": {
    "name": "ipython",
    "version": 3
   },
   "file_extension": ".py",
   "mimetype": "text/x-python",
   "name": "python",
   "nbconvert_exporter": "python",
   "pygments_lexer": "ipython3",
   "version": "3.12.3"
  }
 },
 "nbformat": 4,
 "nbformat_minor": 2
}
