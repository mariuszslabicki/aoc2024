{
 "cells": [
  {
   "cell_type": "code",
   "execution_count": 4,
   "metadata": {},
   "outputs": [
    {
     "name": "stdout",
     "output_type": "stream",
     "text": [
      "6389911791746\n"
     ]
    }
   ],
   "source": [
    "import collections\n",
    "\n",
    "memory = []\n",
    "\n",
    "with open('input') as f:\n",
    "    for y, line in enumerate(f):\n",
    "        memory = [int(x) for x in line]\n",
    "\n",
    "long_memory = collections.deque()\n",
    "file_id = 0\n",
    "\n",
    "for i in range(len(memory)):\n",
    "    if i % 2 == 0:\n",
    "        long_memory.append([file_id, memory[i]])\n",
    "        file_id += 1\n",
    "    else:\n",
    "        if memory[i] == 0:\n",
    "            continue\n",
    "        long_memory.append([None, memory[i]])\n",
    "\n",
    "i = 0\n",
    "\n",
    "moved_files = set()\n",
    "\n",
    "while i < len(long_memory):\n",
    "\n",
    "    if long_memory[i][0] == None:\n",
    "        for j in range(len(long_memory)-1, i, -1):\n",
    "            if long_memory[j][1] <= long_memory[i][1] and long_memory[j][0] != None and long_memory[j][0] not in moved_files:\n",
    "                shift = 0\n",
    "                if long_memory[i][1]-long_memory[j][1] > 0:\n",
    "                    long_memory.insert(i+1, [None, long_memory[i][1]-long_memory[j][1]])\n",
    "                    shift = 1\n",
    "                long_memory[i][0] = long_memory[j+shift][0]\n",
    "                long_memory[i][1] = long_memory[j+shift][1]\n",
    "                moved_files.add(long_memory[i][0])\n",
    "                long_memory[j+shift][0] = None\n",
    "                break\n",
    "    i += 1\n",
    "\n",
    "mul = 0\n",
    "checksum = 0\n",
    "\n",
    "for carriage in long_memory:\n",
    "    for i in range(carriage[1]):\n",
    "        if carriage[0] != None:\n",
    "            checksum += mul * carriage[0]\n",
    "        mul += 1\n",
    "\n",
    "print(checksum)\n"
   ]
  }
 ],
 "metadata": {
  "kernelspec": {
   "display_name": ".venv",
   "language": "python",
   "name": "python3"
  },
  "language_info": {
   "codemirror_mode": {
    "name": "ipython",
    "version": 3
   },
   "file_extension": ".py",
   "mimetype": "text/x-python",
   "name": "python",
   "nbconvert_exporter": "python",
   "pygments_lexer": "ipython3",
   "version": "3.12.7"
  }
 },
 "nbformat": 4,
 "nbformat_minor": 2
}
