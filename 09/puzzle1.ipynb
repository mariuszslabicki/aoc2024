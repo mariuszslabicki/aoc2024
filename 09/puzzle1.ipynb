{
 "cells": [
  {
   "cell_type": "code",
   "execution_count": 106,
   "metadata": {},
   "outputs": [
    {
     "name": "stdout",
     "output_type": "stream",
     "text": [
      "6356833654075\n"
     ]
    }
   ],
   "source": [
    "import collections\n",
    "\n",
    "memory = []\n",
    "\n",
    "with open('input') as f:\n",
    "    for y, line in enumerate(f):\n",
    "        memory = [int(x) for x in line]\n",
    "\n",
    "long_memory = collections.deque()\n",
    "file_id = 0\n",
    "\n",
    "for i in range(len(memory)):\n",
    "    if i % 2 == 0:\n",
    "        long_memory.append([file_id, memory[i]])\n",
    "        file_id += 1\n",
    "    else:\n",
    "        long_memory.append([None, memory[i]])\n",
    "\n",
    "checksum = 0\n",
    "\n",
    "mul = 0\n",
    "\n",
    "while len(long_memory) > 0:\n",
    "    if long_memory[0][0] != None:\n",
    "        if long_memory[0][1] == 0:\n",
    "                long_memory.popleft()\n",
    "                continue\n",
    "        if long_memory[0][1] > 0:\n",
    "            checksum += mul * long_memory[0][0]\n",
    "            long_memory[0][1] -= 1\n",
    "            mul += 1 \n",
    "\n",
    "    if long_memory[0][0] == None:\n",
    "        if long_memory[0][1] == 0:\n",
    "            long_memory.popleft()\n",
    "            continue\n",
    "        if long_memory[0][1] > 0:\n",
    "            checksum += mul * long_memory[-1][0]\n",
    "            long_memory[-1][1] -= 1\n",
    "            if long_memory[-1][1] == 0:\n",
    "                long_memory.pop()\n",
    "            if long_memory[-1][0] == None:\n",
    "                long_memory.pop()\n",
    "            if len(long_memory) > 0:\n",
    "                long_memory[0][1] -= 1\n",
    "            mul += 1 \n",
    "\n",
    "print(checksum)"
   ]
  }
 ],
 "metadata": {
  "kernelspec": {
   "display_name": ".venv",
   "language": "python",
   "name": "python3"
  },
  "language_info": {
   "codemirror_mode": {
    "name": "ipython",
    "version": 3
   },
   "file_extension": ".py",
   "mimetype": "text/x-python",
   "name": "python",
   "nbconvert_exporter": "python",
   "pygments_lexer": "ipython3",
   "version": "3.12.7"
  }
 },
 "nbformat": 4,
 "nbformat_minor": 2
}
