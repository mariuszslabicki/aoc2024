{
 "cells": [
  {
   "cell_type": "code",
   "execution_count": 24,
   "metadata": {},
   "outputs": [
    {
     "name": "stdout",
     "output_type": "stream",
     "text": [
      "Breaking:\n",
      "45,18\n"
     ]
    }
   ],
   "source": [
    "max_x = 6\n",
    "max_y = 6\n",
    "failures_no = 12\n",
    "\n",
    "max_x = 70\n",
    "max_y = 70\n",
    "failures_no = 1024\n",
    "\n",
    "failures = set()\n",
    "new_failures = []\n",
    "start = (0, 0)\n",
    "end = (max_x, max_y)\n",
    "\n",
    "counter = 0\n",
    "\n",
    "with open('input') as f:\n",
    "    for y, line in enumerate(f):\n",
    "        counter += 1\n",
    "        if counter > failures_no:\n",
    "            new_failures.append((int(line.strip().split(\",\")[0]), int(line.strip().split(\",\")[1])))\n",
    "        else:\n",
    "            failures.add((int(line.strip().split(\",\")[0]), int(line.strip().split(\",\")[1])))\n",
    "\n",
    "waiting_for_new_fields = True\n",
    "\n",
    "for new_failure in new_failures:\n",
    "    failures.add(new_failure)\n",
    "    path = []\n",
    "    path.append(start)\n",
    "\n",
    "    paths = [path]\n",
    "\n",
    "    visited = set()\n",
    "    visited.add(start)\n",
    "\n",
    "\n",
    "    possible = False\n",
    "    while possible is False:\n",
    "        new_paths = []\n",
    "        for path in paths:\n",
    "            steps = [(0, 1), (0, -1), (1, 0), (-1, 0)]\n",
    "            for step in steps:\n",
    "                candidate = (path[-1][0]+step[0], path[-1][1]+step[1])\n",
    "                if candidate[0] < 0 or candidate[0] > max_x or candidate[1] < 0 or candidate[1] > max_y:\n",
    "                    continue\n",
    "                if candidate not in failures and candidate not in visited:\n",
    "                    visited.add(candidate)\n",
    "                    new_path = path.copy()\n",
    "                    new_path.append(candidate)\n",
    "                    if new_path[-1] == end:\n",
    "                        possible = True\n",
    "                        break\n",
    "                    new_paths.append(new_path)\n",
    "            if possible is True:\n",
    "                break\n",
    "        paths = new_paths.copy()\n",
    "        if len(paths) == 0:\n",
    "            waiting_for_new_fields = False\n",
    "            break\n",
    "    if possible is False:\n",
    "        print(\"Breaking:\")\n",
    "        print(new_failure[0], end=\",\")\n",
    "        print(new_failure[1])\n",
    "        break"
   ]
  }
 ],
 "metadata": {
  "kernelspec": {
   "display_name": ".venv",
   "language": "python",
   "name": "python3"
  },
  "language_info": {
   "codemirror_mode": {
    "name": "ipython",
    "version": 3
   },
   "file_extension": ".py",
   "mimetype": "text/x-python",
   "name": "python",
   "nbconvert_exporter": "python",
   "pygments_lexer": "ipython3",
   "version": "3.12.7"
  }
 },
 "nbformat": 4,
 "nbformat_minor": 2
}
