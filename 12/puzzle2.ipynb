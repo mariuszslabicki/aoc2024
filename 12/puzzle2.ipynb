{
 "cells": [
  {
   "cell_type": "code",
   "execution_count": 265,
   "metadata": {},
   "outputs": [
    {
     "name": "stdout",
     "output_type": "stream",
     "text": [
      "910066\n"
     ]
    }
   ],
   "source": [
    "fields = dict()\n",
    "\n",
    "counted_fields = set()\n",
    "\n",
    "with open('input') as f:\n",
    "    for y, line in enumerate(f):\n",
    "        for x, char in enumerate(line.strip()):\n",
    "            fields[(x, y)] = char\n",
    "\n",
    "cost = 0\n",
    "\n",
    "for field in fields:\n",
    "    if field in counted_fields:\n",
    "        continue\n",
    "    counted_fields.add(field)\n",
    "    new_subarea = set()\n",
    "    wave = [field]\n",
    "    new_subarea.add(field)\n",
    "    min_x = field[0]\n",
    "    max_x = field[0]\n",
    "    min_y = field[1]\n",
    "    max_y = field[1]\n",
    "    while len(wave) > 0:\n",
    "        new_wave = []\n",
    "        for element in wave:\n",
    "            possible_steps = [(0, 1), (0, -1), (1, 0), (-1, 0)]\n",
    "            for step in possible_steps:\n",
    "                    candidate = (element[0]+step[0], element[1]+step[1])\n",
    "                    if candidate in fields and fields[candidate] == fields[element] and candidate not in new_subarea:\n",
    "                        if candidate[0] < min_x:\n",
    "                            min_x = candidate[0]\n",
    "                        if candidate[0] > min_x:\n",
    "                            max_x = candidate[0]\n",
    "                        if candidate[1] < min_y:\n",
    "                            min_y = candidate[1]\n",
    "                        if candidate[1] > max_y:\n",
    "                            max_y = candidate[0]\n",
    "                        counted_fields.add(candidate)\n",
    "                        new_subarea.add(candidate)\n",
    "                        new_wave.append(candidate)\n",
    "        wave = new_wave\n",
    "    \n",
    "    sides = 0\n",
    "\n",
    "    for element in new_subarea:\n",
    "        if (element[0]-1, element[1]) not in new_subarea:\n",
    "            if (element[0], element[1]-1) not in new_subarea:\n",
    "                sides += 1\n",
    "            elif (element[0]-1, element[1]-1) in new_subarea:\n",
    "                sides += 1\n",
    "\n",
    "        if (element[0]+1, element[1]) not in new_subarea:\n",
    "            if (element[0], element[1]-1) not in new_subarea:\n",
    "                sides += 1\n",
    "            elif (element[0]+1, element[1]-1) in new_subarea:\n",
    "                sides += 1\n",
    "\n",
    "        if (element[0], element[1]-1) not in new_subarea:\n",
    "            if (element[0]-1, element[1]) not in new_subarea:\n",
    "                sides += 1\n",
    "            elif (element[0]-1, element[1]-1) in new_subarea:\n",
    "                sides += 1\n",
    "\n",
    "        if (element[0], element[1]+1) not in new_subarea:\n",
    "            if (element[0]-1, element[1]) not in new_subarea:\n",
    "                sides += 1\n",
    "            elif (element[0]-1, element[1]+1) in new_subarea:\n",
    "                sides += 1\n",
    "\n",
    "    cost += len(new_subarea)*sides\n",
    "\n",
    "print(cost)"
   ]
  },
  {
   "cell_type": "code",
   "execution_count": null,
   "metadata": {},
   "outputs": [],
   "source": [
    "    # for x in range(min_x, max_x+2):\n",
    "    #     for y in range(min_y, max_y+2):\n",
    "    #         print(\"Checking first\", x, y)\n",
    "    #         if (x, y) in new_subarea and (x, y-1) not in new_subarea and (x-1, y) not in new_subarea:\n",
    "    #             print(\"Adding 1\")\n",
    "    #             print(x, y)\n",
    "    #             sides += 1\n",
    "    #         if (x, y) not in new_subarea and (x-1, y) in new_subarea and (x, y-1) not in new_subarea and (x-1, y-1) not in new_subarea:\n",
    "    #             print(\"Adding 2\")\n",
    "    #             print(x, y)\n",
    "    #             sides += 1\n",
    "    #         if (x, y) in new_subarea and (x, y-1) not in new_subarea and (x-1, y-1) in new_subarea:\n",
    "    #             print(\"Adding 3\")\n",
    "    #             print(x, y)\n",
    "    #             sides += 1"
   ]
  }
 ],
 "metadata": {
  "kernelspec": {
   "display_name": ".venv",
   "language": "python",
   "name": "python3"
  },
  "language_info": {
   "codemirror_mode": {
    "name": "ipython",
    "version": 3
   },
   "file_extension": ".py",
   "mimetype": "text/x-python",
   "name": "python",
   "nbconvert_exporter": "python",
   "pygments_lexer": "ipython3",
   "version": "3.12.7"
  }
 },
 "nbformat": 4,
 "nbformat_minor": 2
}
