{
 "cells": [
  {
   "cell_type": "code",
   "execution_count": 5,
   "metadata": {},
   "outputs": [
    {
     "name": "stdout",
     "output_type": "stream",
     "text": [
      "1533024\n"
     ]
    }
   ],
   "source": [
    "fields = dict()\n",
    "\n",
    "counted_fields = set()\n",
    "\n",
    "with open('input') as f:\n",
    "    for y, line in enumerate(f):\n",
    "        for x, char in enumerate(line.strip()):\n",
    "            fields[(x, y)] = char\n",
    "\n",
    "cost = 0\n",
    "\n",
    "for field in fields:\n",
    "    if field in counted_fields:\n",
    "        continue\n",
    "    counted_fields.add(field)\n",
    "    new_subarea = set()\n",
    "    wave = [field]\n",
    "    new_subarea.add(field)\n",
    "    while len(wave) > 0:\n",
    "        new_wave = []\n",
    "        for element in wave:\n",
    "            possible_steps = [(0, 1), (0, -1), (1, 0), (-1, 0)]\n",
    "            for step in possible_steps:\n",
    "                    candidate = (element[0]+step[0], element[1]+step[1])\n",
    "                    if candidate in fields and fields[candidate] == fields[element] and candidate not in new_subarea:\n",
    "                        counted_fields.add(candidate)\n",
    "                        new_subarea.add(candidate)\n",
    "                        new_wave.append(candidate)\n",
    "        wave = new_wave\n",
    "    \n",
    "    visited = set()\n",
    "    perimeter = 0\n",
    "    for element in new_subarea:\n",
    "        perimeter += 4\n",
    "        possible_steps = [(0, 1), (0, -1), (1, 0), (-1, 0)]\n",
    "        for step in possible_steps:\n",
    "            candidate = (element[0]+step[0], element[1]+step[1])\n",
    "            if candidate in visited:\n",
    "                perimeter -= 2\n",
    "        visited.add(element)\n",
    "    cost += len(new_subarea)*perimeter\n",
    "\n",
    "print(cost)"
   ]
  }
 ],
 "metadata": {
  "kernelspec": {
   "display_name": ".venv",
   "language": "python",
   "name": "python3"
  },
  "language_info": {
   "codemirror_mode": {
    "name": "ipython",
    "version": 3
   },
   "file_extension": ".py",
   "mimetype": "text/x-python",
   "name": "python",
   "nbconvert_exporter": "python",
   "pygments_lexer": "ipython3",
   "version": "3.12.7"
  }
 },
 "nbformat": 4,
 "nbformat_minor": 2
}
