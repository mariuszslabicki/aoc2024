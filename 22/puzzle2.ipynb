{
 "cells": [
  {
   "cell_type": "code",
   "execution_count": 1,
   "metadata": {},
   "outputs": [
    {
     "name": "stdout",
     "output_type": "stream",
     "text": [
      "Final\n",
      "2399\n",
      "(2, -1, -1, 2)\n"
     ]
    }
   ],
   "source": [
    "import itertools\n",
    "\n",
    "sequence = []\n",
    "\n",
    "with open('input') as f:\n",
    "    for y, line in enumerate(f):\n",
    "        line = line.strip()\n",
    "        sequence.append(int(line))\n",
    "\n",
    "def next_no(number):\n",
    "    result = number * 64\n",
    "    number = number ^ result\n",
    "    number = number % 16777216\n",
    "\n",
    "    result = number // 32\n",
    "    number = number ^ result\n",
    "    number = number % 16777216\n",
    "\n",
    "    result = number * 2048\n",
    "    number = number ^ result\n",
    "    number = number % 16777216\n",
    "    return number\n",
    "\n",
    "diffs = []\n",
    "prices = []\n",
    "sets = []\n",
    "\n",
    "total = 0\n",
    "\n",
    "all_sets = set()\n",
    "\n",
    "for number in sequence:\n",
    "    diff_set = []\n",
    "    prices_set = []\n",
    "    for i in range(2000):\n",
    "        new_number = next_no(number)\n",
    "        a = int(str(new_number)[-1])\n",
    "        b = int(str(number)[-1])\n",
    "        diff_set.append(a-b)\n",
    "        prices_set.append(int(str(new_number)[-1]))\n",
    "        number = new_number\n",
    "    total += number\n",
    "    this_sets = dict()\n",
    "    for i in range(0, len(diff_set)-3):\n",
    "        all_sets.add((diff_set[i], diff_set[i+1], diff_set[i+2], diff_set[i+3]))\n",
    "        if (diff_set[i], diff_set[i+1], diff_set[i+2], diff_set[i+3]) not in this_sets:\n",
    "            this_sets[(diff_set[i], diff_set[i+1], diff_set[i+2], diff_set[i+3])] = prices_set[i+3]\n",
    "    sets.append(this_sets)\n",
    "    diffs.append(diff_set)\n",
    "    prices.append(prices_set)\n",
    "\n",
    "# patterns = itertools.permutations([-9, -8, -7, -6, -5, -4, -3, -2, -1, 0, 1, 2, 3, 4, 5, 6, 7, 8, 9], 4)\n",
    "\n",
    "best_found = 0\n",
    "best_pattern = None\n",
    "\n",
    "checks = 0\n",
    "\n",
    "pattern_no = 0\n",
    "\n",
    "for pattern in all_sets:\n",
    "    pattern_no += 1\n",
    "    total = 0\n",
    "    for i in range(len(diffs)):\n",
    "        if pattern in sets[i]:\n",
    "            total += sets[i][pattern]\n",
    "    if total > best_found:\n",
    "        best_found = total\n",
    "        best_pattern = pattern\n",
    "print(\"Final\")\n",
    "print(best_found)\n",
    "print(best_pattern)\n"
   ]
  }
 ],
 "metadata": {
  "kernelspec": {
   "display_name": ".venv",
   "language": "python",
   "name": "python3"
  },
  "language_info": {
   "codemirror_mode": {
    "name": "ipython",
    "version": 3
   },
   "file_extension": ".py",
   "mimetype": "text/x-python",
   "name": "python",
   "nbconvert_exporter": "python",
   "pygments_lexer": "ipython3",
   "version": "3.12.3"
  }
 },
 "nbformat": 4,
 "nbformat_minor": 2
}
