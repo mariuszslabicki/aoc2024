{
 "cells": [
  {
   "cell_type": "code",
   "execution_count": 18,
   "metadata": {},
   "outputs": [
    {
     "name": "stdout",
     "output_type": "stream",
     "text": [
      "19877757850\n"
     ]
    }
   ],
   "source": [
    "sequence = []\n",
    "\n",
    "with open('input') as f:\n",
    "    for y, line in enumerate(f):\n",
    "        line = line.strip()\n",
    "        sequence.append(int(line))\n",
    "\n",
    "def next_no(number):\n",
    "    result = number * 64\n",
    "    number = number ^ result\n",
    "    number = number % 16777216\n",
    "\n",
    "    result = number // 32\n",
    "    number = number ^ result\n",
    "    number = number % 16777216\n",
    "\n",
    "    result = number * 2048\n",
    "    number = number ^ result\n",
    "    number = number % 16777216\n",
    "    return number\n",
    "\n",
    "total = 0\n",
    "\n",
    "for number in sequence:\n",
    "    for i in range(2000):\n",
    "        number = next_no(number)\n",
    "    total += number\n",
    "\n",
    "print(total)\n"
   ]
  }
 ],
 "metadata": {
  "kernelspec": {
   "display_name": ".venv",
   "language": "python",
   "name": "python3"
  },
  "language_info": {
   "codemirror_mode": {
    "name": "ipython",
    "version": 3
   },
   "file_extension": ".py",
   "mimetype": "text/x-python",
   "name": "python",
   "nbconvert_exporter": "python",
   "pygments_lexer": "ipython3",
   "version": "3.12.3"
  }
 },
 "nbformat": 4,
 "nbformat_minor": 2
}
