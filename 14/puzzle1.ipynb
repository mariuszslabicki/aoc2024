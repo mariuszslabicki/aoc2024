{
 "cells": [
  {
   "cell_type": "code",
   "execution_count": 1,
   "metadata": {},
   "outputs": [
    {
     "name": "stdout",
     "output_type": "stream",
     "text": [
      "229421808\n"
     ]
    }
   ],
   "source": [
    "robots = []\n",
    "\n",
    "max_x = 101\n",
    "max_y = 103\n",
    "\n",
    "with open('input') as f:\n",
    "    game = []\n",
    "    for y, line in enumerate(f):\n",
    "        line = line.split()\n",
    "        x = int(line[0][2:].split(\",\")[0])\n",
    "        y = int(line[0][2:].split(\",\")[1])\n",
    "        px = int(line[1][2:].split(\",\")[0])\n",
    "        py = int(line[1][2:].split(\",\")[1])\n",
    "        robot = [x, y, px, py]\n",
    "        robots.append(robot)\n",
    "        \n",
    "for time in range(100):\n",
    "    for robot in robots:\n",
    "        robot[0] = (robot[0] + robot[2]) % max_x\n",
    "        robot[1] = (robot[1] + robot[3]) % max_y\n",
    "q1 = 0\n",
    "q2 = 0\n",
    "q3 = 0\n",
    "q4 = 0\n",
    "for robot in robots:\n",
    "    if robot[0] < max_x // 2 and robot[1] < max_y // 2:\n",
    "        q1 += 1\n",
    "    if robot[0] >= (max_x // 2)+1 and robot[1] < max_y // 2:\n",
    "        q2 += 1\n",
    "    if robot[0] < max_x // 2 and robot[1] >= (max_y // 2)+1:\n",
    "        q3 += 1\n",
    "    if robot[0] >= (max_x // 2)+1 and robot[1] >= (max_y // 2)+1:\n",
    "        q4 += 1\n",
    "\n",
    "print(q1*q2*q3*q4)"
   ]
  }
 ],
 "metadata": {
  "kernelspec": {
   "display_name": ".venv",
   "language": "python",
   "name": "python3"
  },
  "language_info": {
   "codemirror_mode": {
    "name": "ipython",
    "version": 3
   },
   "file_extension": ".py",
   "mimetype": "text/x-python",
   "name": "python",
   "nbconvert_exporter": "python",
   "pygments_lexer": "ipython3",
   "version": "3.12.3"
  }
 },
 "nbformat": 4,
 "nbformat_minor": 2
}
