{
 "cells": [
  {
   "cell_type": "code",
   "execution_count": 23,
   "metadata": {},
   "outputs": [
    {
     "name": "stdout",
     "output_type": "stream",
     "text": [
      "1974\n"
     ]
    }
   ],
   "source": [
    "letters = dict()\n",
    "\n",
    "with open('input') as f:\n",
    "    for line_no, line in enumerate(f):\n",
    "        for position, letter in enumerate(line):\n",
    "            letters[(position, line_no)] = letter\n",
    "\n",
    "found = 0\n",
    "\n",
    "for letter in letters:\n",
    "    if letters[letter] == 'M':\n",
    "        if (letter[0]+1, letter[1]+1) in letters and \\\n",
    "            letters[(letter[0]+1, letter[1]+1)] == 'A':\n",
    "            if (letter[0]+2, letter[1]+2) in letters and \\\n",
    "                letters[(letter[0]+2, letter[1]+2)] == 'S':\n",
    "                \n",
    "                if (letter[0]+2, letter[1]) in letters and letters[(letter[0]+2, letter[1])] == 'M' and \\\n",
    "                    (letter[0], letter[1]+2) in letters and letters[(letter[0], letter[1]+2)] == 'S':\n",
    "                    found += 1\n",
    "                if (letter[0]+2, letter[1]) in letters and letters[(letter[0]+2, letter[1])] == 'S' and \\\n",
    "                    (letter[0], letter[1]+2) in letters and letters[(letter[0], letter[1]+2)] == 'M':\n",
    "                    found += 1\n",
    "\n",
    "        if (letter[0]-1, letter[1]-1) in letters and \\\n",
    "            letters[(letter[0]-1, letter[1]-1)] == 'A':\n",
    "            if (letter[0]-2, letter[1]-2) in letters and \\\n",
    "                letters[(letter[0]-2, letter[1]-2)] == 'S':  \n",
    "                \n",
    "                if (letter[0]-2, letter[1]) in letters and letters[(letter[0]-2, letter[1])] == 'M' and \\\n",
    "                    (letter[0], letter[1]-2) in letters and letters[(letter[0], letter[1]-2)] == 'S':\n",
    "                    found += 1\n",
    "                if (letter[0]-2, letter[1]) in letters and letters[(letter[0]-2, letter[1])] == 'S' and \\\n",
    "                    (letter[0], letter[1]-2) in letters and letters[(letter[0], letter[1]-2)] == 'M':\n",
    "                    found += 1\n",
    "\n",
    "print(found)"
   ]
  }
 ],
 "metadata": {
  "kernelspec": {
   "display_name": ".venv",
   "language": "python",
   "name": "python3"
  },
  "language_info": {
   "codemirror_mode": {
    "name": "ipython",
    "version": 3
   },
   "file_extension": ".py",
   "mimetype": "text/x-python",
   "name": "python",
   "nbconvert_exporter": "python",
   "pygments_lexer": "ipython3",
   "version": "3.12.3"
  }
 },
 "nbformat": 4,
 "nbformat_minor": 2
}
