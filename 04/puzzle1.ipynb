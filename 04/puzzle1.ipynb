{
 "cells": [
  {
   "cell_type": "code",
   "execution_count": 1,
   "metadata": {},
   "outputs": [
    {
     "name": "stdout",
     "output_type": "stream",
     "text": [
      "2642\n"
     ]
    }
   ],
   "source": [
    "letters = dict()\n",
    "\n",
    "with open('input') as f:\n",
    "    for line_no, line in enumerate(f):\n",
    "        for position, letter in enumerate(line):\n",
    "            letters[(position, line_no)] = letter\n",
    "\n",
    "patterns = [\n",
    "    [(0, 1), (0, 2), (0, 3)], \\\n",
    "    [(0, -1), (0, -2), (0, -3)], \\\n",
    "    [(1, 0), (2, 0), (3, 0)], \\\n",
    "    [(-1, 0), (-2, 0), (-3, 0)], \\\n",
    "    [(1, 1), (2, 2), (3, 3)], \\\n",
    "    [(-1, -1), (-2, -2), (-3, -3)], \\\n",
    "    [(1, -1), (2, -2), (3, -3)], \\\n",
    "    [(-1, 1), (-2, 2), (-3, 3)]\n",
    "]\n",
    "\n",
    "found = 0\n",
    "\n",
    "for letter in letters:\n",
    "    if letters[letter] == 'X':\n",
    "        for pattern in patterns:\n",
    "            second_letter = tuple(map(lambda i, j: i + j, letter, pattern[0]))\n",
    "            if second_letter not in letters or letters[second_letter] != 'M':\n",
    "                continue\n",
    "            third_letter = tuple(map(lambda i, j: i + j, letter, pattern[1]))\n",
    "            if third_letter not in letters or letters[third_letter] != 'A':\n",
    "                continue\n",
    "            fourth_letter = tuple(map(lambda i, j: i + j, letter, pattern[2]))\n",
    "            if fourth_letter not in letters or letters[fourth_letter] != 'S':\n",
    "                continue\n",
    "            found += 1\n",
    "\n",
    "print(found)"
   ]
  }
 ],
 "metadata": {
  "kernelspec": {
   "display_name": ".venv",
   "language": "python",
   "name": "python3"
  },
  "language_info": {
   "codemirror_mode": {
    "name": "ipython",
    "version": 3
   },
   "file_extension": ".py",
   "mimetype": "text/x-python",
   "name": "python",
   "nbconvert_exporter": "python",
   "pygments_lexer": "ipython3",
   "version": "3.12.3"
  }
 },
 "nbformat": 4,
 "nbformat_minor": 2
}
