{
 "cells": [
  {
   "cell_type": "code",
   "execution_count": 5,
   "metadata": {},
   "outputs": [
    {
     "name": "stdout",
     "output_type": "stream",
     "text": [
      "644\n"
     ]
    }
   ],
   "source": [
    "map = dict()\n",
    "\n",
    "starting_points = []\n",
    "\n",
    "with open('input') as f:\n",
    "    for y, line in enumerate(f):\n",
    "        for x, char in enumerate(line.strip()):\n",
    "            if char == '.':\n",
    "                continue\n",
    "            if int(char) == 0:\n",
    "                starting_points.append((x, y))\n",
    "            map[(x, y)] = int(char)\n",
    "\n",
    "sum_ends = 0\n",
    "\n",
    "for start in starting_points:\n",
    "    visited = set()\n",
    "    ends = set()\n",
    "    visited.add(start)\n",
    "    current_positions = [start]\n",
    "    while len(current_positions) > 0:\n",
    "        new_positions = []\n",
    "        for pos in current_positions:\n",
    "            visited.add(pos)\n",
    "            if map[pos] == 9:\n",
    "                ends.add(pos)\n",
    "            possible_steps = [(0, 1), (0, -1), (1, 0), (-1, 0)]\n",
    "            for step in possible_steps:\n",
    "                candidate = (pos[0]+step[0], pos[1]+step[1])\n",
    "                if candidate in map and map[candidate] - map[pos] == 1 and candidate not in visited:\n",
    "                    new_positions.append(candidate)\n",
    "                    visited.add(candidate)\n",
    "        current_positions = new_positions.copy()\n",
    "    sum_ends += len(ends)\n",
    "print(sum_ends)\n"
   ]
  }
 ],
 "metadata": {
  "kernelspec": {
   "display_name": ".venv",
   "language": "python",
   "name": "python3"
  },
  "language_info": {
   "codemirror_mode": {
    "name": "ipython",
    "version": 3
   },
   "file_extension": ".py",
   "mimetype": "text/x-python",
   "name": "python",
   "nbconvert_exporter": "python",
   "pygments_lexer": "ipython3",
   "version": "3.12.7"
  }
 },
 "nbformat": 4,
 "nbformat_minor": 2
}
