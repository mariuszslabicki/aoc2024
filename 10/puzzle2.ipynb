{
 "cells": [
  {
   "cell_type": "code",
   "execution_count": 7,
   "metadata": {},
   "outputs": [
    {
     "name": "stdout",
     "output_type": "stream",
     "text": [
      "1366\n"
     ]
    }
   ],
   "source": [
    "import copy\n",
    "\n",
    "map = dict()\n",
    "\n",
    "starting_points = []\n",
    "\n",
    "with open('input') as f:\n",
    "    for y, line in enumerate(f):\n",
    "        for x, char in enumerate(line.strip()):\n",
    "            if char == '.':\n",
    "                continue\n",
    "            if int(char) == 0:\n",
    "                starting_points.append((x, y))\n",
    "            map[(x, y)] = int(char)\n",
    "\n",
    "sum_paths = 0\n",
    "\n",
    "for start in starting_points:\n",
    "    paths = [[start]]\n",
    "    new_paths = []\n",
    "    while len(paths) > 0:\n",
    "        new_paths = []\n",
    "        for path in paths:\n",
    "            if map[path[-1]] == 9:\n",
    "                sum_paths += 1\n",
    "                continue\n",
    "            possible_steps = [(0, 1), (0, -1), (1, 0), (-1, 0)]\n",
    "            for step in possible_steps:\n",
    "                candidate = (path[-1][0]+step[0], path[-1][1]+step[1])\n",
    "                if candidate in map and map[candidate] - map[path[-1]] == 1 and candidate not in path:\n",
    "                    new_path = path.copy()\n",
    "                    new_path.append(candidate)\n",
    "                    new_paths.append(new_path)\n",
    "        paths = copy.deepcopy(new_paths)\n",
    "\n",
    "print(sum_paths)\n"
   ]
  }
 ],
 "metadata": {
  "kernelspec": {
   "display_name": ".venv",
   "language": "python",
   "name": "python3"
  },
  "language_info": {
   "codemirror_mode": {
    "name": "ipython",
    "version": 3
   },
   "file_extension": ".py",
   "mimetype": "text/x-python",
   "name": "python",
   "nbconvert_exporter": "python",
   "pygments_lexer": "ipython3",
   "version": "3.12.7"
  }
 },
 "nbformat": 4,
 "nbformat_minor": 2
}
